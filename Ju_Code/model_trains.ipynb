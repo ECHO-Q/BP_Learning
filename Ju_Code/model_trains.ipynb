{
 "cells": [
  {
   "cell_type": "markdown",
   "metadata": {},
   "source": [
    "1. 导入必要的模块"
   ]
  },
  {
   "cell_type": "code",
   "execution_count": 1,
   "metadata": {},
   "outputs": [],
   "source": [
    "%matplotlib inline\n",
    "import matplotlib.pyplot as plt\n",
    "import tensorflow as tf\n",
    "import numpy as np"
   ]
  },
  {
   "cell_type": "markdown",
   "metadata": {},
   "source": [
    "2. 定义功能函数"
   ]
  },
  {
   "cell_type": "code",
   "execution_count": 2,
   "metadata": {},
   "outputs": [],
   "source": [
    "def model_1x(params):\n",
    "    ''''''\n",
    "    fx = (params[:, 0] + params[:, 1] + params[:, 2])\n",
    "    return fx\n",
    "\n",
    "def model_1y(params):\n",
    "    ''''''\n",
    "    fy = params[:, 0] ** 2 + params[:, 1] * 30 + params[:, 2]\n",
    "    return fy\n",
    "\n",
    "def model_1z(params):\n",
    "    ''''''\n",
    "    fz = (params[:, 0] + params[:, 1])** 2 + params[:, 2]\n",
    "    return fz"
   ]
  },
  {
   "cell_type": "markdown",
   "metadata": {},
   "source": [
    "3. 计算损失函数的功能函数定义"
   ]
  },
  {
   "cell_type": "code",
   "execution_count": 3,
   "metadata": {},
   "outputs": [],
   "source": [
    "def calc_loss1(y1, y2):\n",
    "    '''计算均方误差''' \n",
    "    loss1 = tf.reduce_sum((y1[:, 0] - y2[:, 0]) ** 2)\n",
    "    return loss1\n",
    "\n",
    "def calc_loss2(ct):\n",
    "    '''计算刀轴矢量变化量之和, 作为loss2.\n",
    "    :param ct: 刀轴矢量, shape为[N, 3]\n",
    "    '''\n",
    "    normal_ct = ct / tf.sqrt(tf.reduce_sum(ct ** 2, 1))\n",
    "    tmp1 = tf.reduce_sum((normal_ct[:, 2 :  - 1] - normal_ct[:, 1 : - 2]) ** 2, 1)\n",
    "    tmp2 = tf.sqrt(tmp1)\n",
    "    loss2 = tf.reduce_sum(tmp2)\n",
    "    return loss2\n",
    "\n",
    "\n",
    "def calc_loss3(fx, fy, fz):\n",
    "    '''计算切削力方向的变化量, 作为loss3.'''\n",
    "    f = tf.stack([fx, fy, fz], axis=1)\n",
    "    f = tf.reshape(f, [-1, 3])\n",
    "    d = tf.sqrt(tf.reduce_sum(f**2, 1))\n",
    "    d = tf.reshape(d, [-1, 1])\n",
    "    nf = f / d\n",
    "    tmp1 = tf.reduce_sum((nf[:, 2 : -1] - nf[:, 1 : - 2]) ** 2, 1)\n",
    "    tmp2 = tf.sqrt(tmp1)\n",
    "    loss3 = tf.reduce_sum(tmp2)\n",
    "    return loss3"
   ]
  },
  {
   "cell_type": "markdown",
   "metadata": {},
   "source": [
    "4. 搭建model2的训练模型"
   ]
  },
  {
   "cell_type": "code",
   "execution_count": 4,
   "metadata": {},
   "outputs": [
    {
     "name": "stdout",
     "output_type": "stream",
     "text": [
      "WARNING:tensorflow:From D:\\Anaconda3\\lib\\site-packages\\tensorflow\\python\\framework\\op_def_library.py:263: colocate_with (from tensorflow.python.framework.ops) is deprecated and will be removed in a future version.\n",
      "Instructions for updating:\n",
      "Colocations handled automatically by placer.\n",
      "WARNING:tensorflow:From D:\\Anaconda3\\lib\\site-packages\\tensorflow\\python\\ops\\math_ops.py:3066: to_int32 (from tensorflow.python.ops.math_ops) is deprecated and will be removed in a future version.\n",
      "Instructions for updating:\n",
      "Use tf.cast instead.\n"
     ]
    },
    {
     "data": {
      "text/plain": [
       "[<matplotlib.lines.Line2D at 0x1f4e4406048>]"
      ]
     },
     "execution_count": 4,
     "metadata": {},
     "output_type": "execute_result"
    },
    {
     "data": {
      "image/png": "[encoded data removed]",
      "text/plain": [
       "<Figure size 432x288 with 1 Axes>"
      ]
     },
     "metadata": {},
     "output_type": "display_data"
    }
   ],
   "source": [
    "#tf.reset_default_graph()\n",
    "\n",
    "params1 = tf.placeholder(dtype=tf.float32, shape=[None, 3])\n",
    "fz_real = model_1z(params1)\n",
    "fz_exp = fz_real * 0.9\n",
    "\n",
    "w = tf.Variable(dtype=tf.float32, initial_value=tf.truncated_normal(shape=[1, 5]))\n",
    "b = tf.Variable(dtype=tf.float32, initial_value=tf.truncated_normal(shape=[5]))\n",
    "\n",
    "params3 = tf.reshape(fz_exp, [-1, 1])\n",
    "layer0 = tf.nn.sigmoid(tf.matmul(params3, w) + b)\n",
    "\n",
    "\n",
    "ww = tf.Variable(dtype=tf.float32, initial_value=tf.truncated_normal(shape=[5, 3]))\n",
    "bb = tf.Variable(dtype=tf.float32, initial_value=tf.truncated_normal(shape=[3]))\n",
    "ct = tf.matmul(layer0, ww) + bb\n",
    "\n",
    "params4 = ct\n",
    "fz_tobe = model_1z(params4)\n",
    "fx_tobe = model_1x(params4)\n",
    "fy_tobe = model_1y(params4)\n",
    "\n",
    "fx_tobe = tf.reshape(fx_tobe, [-1, 1])\n",
    "fy_tobe = tf.reshape(fy_tobe, [-1, 1])\n",
    "fz_tobe = tf.reshape(fz_tobe, [-1, 1])\n",
    "fz_exp = tf.reshape(fz_exp, [-1, 1])\n",
    "ct = tf.reshape(ct, [-1, 1])\n",
    "\n",
    "loss1 = calc_loss1(fz_tobe, fz_exp)\n",
    "loss2 = calc_loss2(ct)\n",
    "loss3 = calc_loss3(fx_tobe, fy_tobe, fz_tobe)\n",
    "loss = 0.8 * loss1 + 0.1 * loss2 + 0.1 * loss3\n",
    "\n",
    "tf.summary.scalar(\"loss1\", loss1)\n",
    "tf.summary.scalar(\"loss2\", loss2)\n",
    "tf.summary.scalar(\"loss3\", loss3)\n",
    "tf.summary.scalar(\"loss\", loss)\n",
    "summary = tf.summary.merge_all()\n",
    "\n",
    "\n",
    "#开始训练\n",
    "step = tf.train.GradientDescentOptimizer(0.02).minimize(loss)\n",
    "init = tf.global_variables_initializer()\n",
    "train_data = np.random.sample([20, 3]) * 10\n",
    "\n",
    "\n",
    "writer = tf.summary.FileWriter(\"./logs\", tf.get_default_graph())\n",
    "loss1_vals = []\n",
    "with tf.Session() as sess:\n",
    "    sess.run(init)\n",
    "    for i in range(0, 3000):\n",
    "        sess.run(step, feed_dict={params1: train_data})\n",
    "        if i%2 == 0:\n",
    "            res = sess.run(summary, feed_dict={params1: train_data})\n",
    "            writer.add_summary(res, i)\n",
    "        if i % 3 == 0:\n",
    "            lv = loss1.eval(session=sess, feed_dict={params1: train_data})\n",
    "            loss1_vals.append(lv)\n",
    "            \n",
    "plt.plot(loss1_vals)"
   ]
  },
  {
   "cell_type": "code",
   "execution_count": 5,
   "metadata": {},
   "outputs": [
    {
     "data": {
      "text/plain": [
       "[3526612700000000.0, nan, nan, nan, nan, nan, nan, nan, nan, nan]"
      ]
     },
     "execution_count": 5,
     "metadata": {},
     "output_type": "execute_result"
    }
   ],
   "source": [
    "len(loss1_vals)\n",
    "loss1_vals[0:10]"
   ]
  },
  {
   "cell_type": "code",
   "execution_count": null,
   "metadata": {},
   "outputs": [],
   "source": []
  }
 ],
 "metadata": {
  "kernelspec": {
   "display_name": "Python 3",
   "language": "python",
   "name": "python3"
  },
  "language_info": {
   "codemirror_mode": {
    "name": "ipython",
    "version": 3
   },
   "file_extension": ".py",
   "mimetype": "text/x-python",
   "name": "python",
   "nbconvert_exporter": "python",
   "pygments_lexer": "ipython3",
   "version": "3.6.5"
  }
 },
 "nbformat": 4,
 "nbformat_minor": 2
}
