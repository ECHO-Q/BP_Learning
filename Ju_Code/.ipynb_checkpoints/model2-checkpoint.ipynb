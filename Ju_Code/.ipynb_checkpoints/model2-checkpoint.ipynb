{
 "cells": [
  {
   "cell_type": "code",
   "execution_count": 1,
   "metadata": {},
   "outputs": [],
   "source": [
    "import tensorflow as tf\n",
    "import numpy as np"
   ]
  },
  {
   "cell_type": "markdown",
   "metadata": {},
   "source": [
    "## 定义功能函数"
   ]
  },
  {
   "cell_type": "code",
   "execution_count": 2,
   "metadata": {},
   "outputs": [],
   "source": [
    "def model_1z(params):\n",
    "    return tf.sin(params[:, 0]) + tf.cos(params[:, 1]) + tf.tan(params[:, 2])\n",
    "    \n",
    "def model_1x(params):\n",
    "    return params[:, 0] + 2 * params[:, 1] + 3 * params[:, 2]\n",
    "\n",
    "def model_1y(params):\n",
    "    return 3 * params[:, 0] + 2 * params[:, 1] + params[:, 2]\n",
    "\n",
    "def calc_loss1(a, b):\n",
    "    return tf.reduce_mean(tf.sqrt(tf.pow((a - b), 2)))\n",
    "\n",
    "def calc_loss2(ct):\n",
    "    '''计算刀轴矢量的变化量作为损失函数'''\n",
    "    d = tf.sqrt(tf.reduce_sum(tf.pow(ct, 2), 1))\n",
    "    d = tf.reshape(d, [-1, 1])\n",
    "    ctn = tf.divide(ct, d)\n",
    "    return tf.reduce_mean(tf.sqrt(tf.reduce_sum(tf.pow(ctn[2:, :] - ctn[1:-1, :], 2), 1)))\n",
    "    \n",
    "\n",
    "def calc_loss3(ct):\n",
    "    with tf.name_scope(\"model_1x\"):\n",
    "        fx = tf.reshape(model_1x(ct), [-1, 1])\n",
    "    with tf.name_scope(\"model_1y\"):\n",
    "        fy = tf.reshape(model_1y(ct), [-1, 1])\n",
    "    with tf.name_scope(\"model_1z\"):\n",
    "        fz = tf.reshape(model_1z(ct), [-1, 1])\n",
    "    f = tf.stack(values=[fx, fy, fz], axis=1)\n",
    "    ff = tf.reshape(f, [-1, 3])\n",
    "    return calc_loss2(ff)"
   ]
  },
  {
   "cell_type": "markdown",
   "metadata": {},
   "source": [
    "## 定义网络结构"
   ]
  },
  {
   "cell_type": "code",
   "execution_count": 3,
   "metadata": {
    "scrolled": false
   },
   "outputs": [],
   "source": [
    "params1 = tf.placeholder(dtype=tf.float32, shape=[None, 3])\n",
    "with tf.name_scope(\"model_1z\"):\n",
    "    fz_real = model_1z(params1)\n",
    "fz_exp = fz_real * 0.8\n",
    "params3 = tf.reshape(fz_exp, [-1, 1])\n",
    "\n",
    "\n",
    "#开始构造model2\n",
    "with tf.name_scope(\"model_2\"):\n",
    "    w1 = tf.Variable(dtype=tf.float32, initial_value=tf.truncated_normal(shape=[1, 5]))\n",
    "    b1 = tf.Variable(dtype=tf.float32, initial_value=tf.truncated_normal(shape=[5]))\n",
    "    sig_out = tf.sigmoid(tf.matmul(params3, w1) + b1)\n",
    "    w2 = tf.Variable(dtype=tf.float32, initial_value=tf.truncated_normal(shape=[5, 3]))\n",
    "    ct = tf.matmul(sig_out, w2)\n",
    "#构造model2结束\n",
    "\n",
    "with tf.name_scope(\"model_1z\"):\n",
    "    fz_tobe = model_1z(ct)\n",
    "with tf.name_scope(\"loss1\"):\n",
    "    loss1 = calc_loss1(fz_tobe, fz_exp)\n",
    "with tf.name_scope(\"loss2\"):\n",
    "    loss2 = calc_loss2(ct)\n",
    "    \n",
    "with tf.name_scope(\"model_1x\"):\n",
    "    fx = tf.reshape(model_1x(ct), [-1, 1])\n",
    "with tf.name_scope(\"model_1y\"):\n",
    "    fy = tf.reshape(model_1y(ct), [-1, 1])\n",
    "with tf.name_scope(\"model_1z\"):\n",
    "    fz = tf.reshape(model_1z(ct), [-1, 1])\n",
    "    \n",
    "f = tf.stack(values=[fx, fy, fz], axis=1)\n",
    "ff = tf.reshape(f, [-1, 3])\n",
    "    \n",
    "with tf.name_scope(\"loss3\"):\n",
    "    loss3 = calc_loss2(ff)\n",
    "loss = 0.8 * loss1 + 0.1 * loss2 + 0.1 * loss3\n",
    "\n",
    "with tf.name_scope(\"train\"):\n",
    "    train_obj = tf.train.AdamOptimizer(0.02).minimize(loss)\n",
    "with tf.name_scope(\"initialize\"):\n",
    "    init = tf.global_variables_initializer()\n",
    "\n",
    "tf.summary.scalar(\"loss1\", loss1)\n",
    "tf.summary.scalar(\"loss2\", loss2)\n",
    "tf.summary.scalar(\"loss3\", loss3)\n",
    "tf.summary.scalar(\"loss\", loss)\n",
    "merged = tf.summary.merge_all()\n",
    "\n",
    "params1_data = np.random.sample(size=[1500, 3])\n",
    "\n",
    "with tf.Session() as sess:\n",
    "    sess.run(init)\n",
    "    writer = tf.summary.FileWriter(\"./log3\", sess.graph)\n",
    "    for i in range(1000):\n",
    "        sess.run(train_obj, feed_dict={params1: params1_data})\n",
    "        if i % 2 == 0:\n",
    "            res = sess.run(merged, feed_dict={params1: params1_data})\n",
    "            writer.add_summary(res, i)\n"
   ]
  }
 ],
 "metadata": {
  "kernelspec": {
   "display_name": "Python 3",
   "language": "python",
   "name": "python3"
  },
  "language_info": {
   "codemirror_mode": {
    "name": "ipython",
    "version": 3
   },
   "file_extension": ".py",
   "mimetype": "text/x-python",
   "name": "python",
   "nbconvert_exporter": "python",
   "pygments_lexer": "ipython3",
   "version": "3.6.5"
  }
 },
 "nbformat": 4,
 "nbformat_minor": 2
}
