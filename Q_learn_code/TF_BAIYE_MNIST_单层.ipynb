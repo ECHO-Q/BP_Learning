{
 "cells": [
  {
   "cell_type": "code",
   "execution_count": 2,
   "metadata": {},
   "outputs": [
    {
     "name": "stdout",
     "output_type": "stream",
     "text": [
      "Extracting MNIST_data\\train-images-idx3-ubyte.gz\n",
      "Extracting MNIST_data\\train-labels-idx1-ubyte.gz\n",
      "Extracting MNIST_data\\t10k-images-idx3-ubyte.gz\n",
      "Extracting MNIST_data\\t10k-labels-idx1-ubyte.gz\n",
      "(55000, 784) (55000, 10)\n",
      "(55000, 784) (10000, 10)\n",
      "(5000, 784) (5000, 10)\n"
     ]
    }
   ],
   "source": [
    "from tensorflow.examples.tutorials.mnist import input_data\n",
    "import tensorflow as tf\n",
    "\n",
    "# one_hot向量除了某一位数字是1以外，其余维度数字都是0\n",
    "# labels:0-9\n",
    "mnist=input_data.read_data_sets(\"MNIST_data\",one_hot=True)  #这里写的是当前的路径\n",
    "\n",
    "print(mnist.train.images.shape,mnist.train.labels.shape)\n",
    "print(mnist.train.images.shape,mnist.test.labels.shape)\n",
    "print(mnist.validation.images.shape,mnist.validation.labels.shape)\n",
    "# sess=tf.InteractiveSession()\n",
    "# x=tf.placeholder(tf.float32,[None,784])"
   ]
  },
  {
   "cell_type": "code",
   "execution_count": 14,
   "metadata": {},
   "outputs": [
    {
     "name": "stdout",
     "output_type": "stream",
     "text": [
      "Iter0,Testing Accuracy 0.9168\n",
      "Iter1,Testing Accuracy 0.9223\n",
      "Iter2,Testing Accuracy 0.9264\n",
      "Iter3,Testing Accuracy 0.9277\n",
      "Iter4,Testing Accuracy 0.9288\n",
      "Iter5,Testing Accuracy 0.9309\n",
      "Iter6,Testing Accuracy 0.9324\n",
      "Iter7,Testing Accuracy 0.9324\n",
      "Iter8,Testing Accuracy 0.9319\n",
      "Iter9,Testing Accuracy 0.9324\n",
      "Iter10,Testing Accuracy 0.9314\n",
      "Iter11,Testing Accuracy 0.9331\n",
      "Iter12,Testing Accuracy 0.9324\n",
      "Iter13,Testing Accuracy 0.9338\n",
      "Iter14,Testing Accuracy 0.9304\n",
      "Iter15,Testing Accuracy 0.9317\n",
      "Iter16,Testing Accuracy 0.9329\n",
      "Iter17,Testing Accuracy 0.9328\n",
      "Iter18,Testing Accuracy 0.9326\n",
      "Iter19,Testing Accuracy 0.9326\n",
      "Iter20,Testing Accuracy 0.9329\n",
      "Iter21,Testing Accuracy 0.932\n",
      "Iter22,Testing Accuracy 0.934\n",
      "Iter23,Testing Accuracy 0.9336\n",
      "Iter24,Testing Accuracy 0.9326\n",
      "Iter25,Testing Accuracy 0.9334\n",
      "Iter26,Testing Accuracy 0.9304\n",
      "Iter27,Testing Accuracy 0.9333\n",
      "Iter28,Testing Accuracy 0.9325\n",
      "Iter29,Testing Accuracy 0.9339\n",
      "Iter30,Testing Accuracy 0.933\n",
      "Iter31,Testing Accuracy 0.9332\n",
      "Iter32,Testing Accuracy 0.9331\n",
      "Iter33,Testing Accuracy 0.9332\n",
      "Iter34,Testing Accuracy 0.9333\n",
      "Iter35,Testing Accuracy 0.9332\n",
      "Iter36,Testing Accuracy 0.9343\n",
      "Iter37,Testing Accuracy 0.9318\n",
      "Iter38,Testing Accuracy 0.9329\n",
      "Iter39,Testing Accuracy 0.9338\n",
      "Iter40,Testing Accuracy 0.933\n",
      "Iter41,Testing Accuracy 0.9324\n",
      "Iter42,Testing Accuracy 0.9332\n",
      "Iter43,Testing Accuracy 0.9345\n",
      "Iter44,Testing Accuracy 0.9336\n",
      "Iter45,Testing Accuracy 0.9339\n",
      "Iter46,Testing Accuracy 0.9328\n",
      "Iter47,Testing Accuracy 0.9326\n",
      "Iter48,Testing Accuracy 0.9332\n",
      "Iter49,Testing Accuracy 0.9318\n"
     ]
    }
   ],
   "source": [
    "batch_size=50   #每次放入网络中的图片的数量\n",
    "n_batch=mnist.train.num_examples//batch_size  #一共多少批次\n",
    "\n",
    "x=tf.placeholder(tf.float32,[None,784])\n",
    "y=tf.placeholder(tf.float32,[None,10])  #标签数\n",
    "\n",
    "W=tf.Variable(tf.zeros([784,10]))\n",
    "b=tf.Variable(tf.zeros([10]))\n",
    "prediction=tf.nn.softmax(tf.matmul(x,W)+b)\n",
    "\n",
    "# # 二次代价函数\n",
    "loss=tf.reduce_mean(tf.square(y-prediction))\n",
    "# train_step=tf.train.GradientDescentOptimizer(0.2).minimize(loss)\n",
    "# Adam优化器\n",
    "train_step=tf.train.AdamOptimizer().minimize(loss)\n",
    "\n",
    "# 交叉熵\n",
    "# cross_entropy=tf.reduce_sum(y*tf.log(prediction))\n",
    "# train_step=tf.train.GradientDescentOptimizer(0.01).minimize(cross_entropy)\n",
    "\n",
    "# 初始化\n",
    "init=tf.global_variables_initializer()\n",
    "\n",
    "# 结果存放在一个布尔型列表\n",
    "# 比较y和prediction之间是否相同\n",
    "# argmax返回一维张量中最大的值所在的位置,因为存储是one_hot形式的，最大值的位置即对应的label\n",
    "correct_prediction=tf.equal(tf.argmax(y,1),tf.argmax(prediction,1))\n",
    "# 求准确率,把布尔型的true和flase对应的转换成0，1之后求均值\n",
    "accuracy=tf.reduce_mean(tf.cast(correct_prediction,tf.float32))\n",
    "\n",
    "with tf.Session() as sess:\n",
    "    sess.run(init)\n",
    "    for epoch in range(50):\n",
    "        for batch in range(n_batch):\n",
    "            batch_xs,batch_ys=mnist.train.next_batch(batch_size)\n",
    "            sess.run(train_step,feed_dict={x:batch_xs,y:batch_ys})\n",
    "        \n",
    "#       放入测试级的图片和labels计算准确率，即看训练的准确率\n",
    "        acc=sess.run(accuracy,feed_dict={x:mnist.test.images,y:mnist.test.labels})\n",
    "        print(\"Iter\"+str(epoch)+\",Testing Accuracy \"+str(acc))    \n",
    "        "
   ]
  },
  {
   "cell_type": "code",
   "execution_count": null,
   "metadata": {},
   "outputs": [],
   "source": []
  }
 ],
 "metadata": {
  "kernelspec": {
   "display_name": "Python 3",
   "language": "python",
   "name": "python3"
  },
  "language_info": {
   "codemirror_mode": {
    "name": "ipython",
    "version": 3
   },
   "file_extension": ".py",
   "mimetype": "text/x-python",
   "name": "python",
   "nbconvert_exporter": "python",
   "pygments_lexer": "ipython3",
   "version": "3.6.5"
  }
 },
 "nbformat": 4,
 "nbformat_minor": 2
}
